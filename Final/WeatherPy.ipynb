{
 "cells": [
  {
   "cell_type": "markdown",
   "metadata": {},
   "source": [
    "# WeatherPy\n",
    "----\n",
    "\n",
    "#### Note\n",
    "* Instructions have been included for each segment. You do not have to follow them exactly, but they are included to help you think through the steps."
   ]
  },
  {
   "cell_type": "code",
   "execution_count": 1,
   "metadata": {
    "scrolled": true
   },
   "outputs": [],
   "source": [
    "# Dependencies\n",
    "import matplotlib.pyplot as plt\n",
    "import pandas as pd\n",
    "import numpy as np\n",
    "import requests\n",
    "import time\n",
    "import json\n",
    "from datetime import datetime\n",
    "\n",
    "# api keys\n",
    "from api_keys import weather_api_key\n",
    "\n",
    "# Incorporated citipy to determine city based on latitude and longitude \n",
    "from citipy import citipy \n",
    "\n",
    "# range of latitudes and longitudes\n",
    "lat_range = (-90, 90)\n",
    "long_range = (-180, 180)"
   ]
  },
  {
   "cell_type": "markdown",
   "metadata": {},
   "source": [
    "## Generate Cities List"
   ]
  },
  {
   "cell_type": "code",
   "execution_count": 2,
   "metadata": {},
   "outputs": [],
   "source": [
    "lat_longs = []\n",
    "\n",
    "cities = []\n",
    "\n",
    "# uniform is different way to set up the range \n",
    "lats = np.random.uniform(low=-90.000, high=90.000, size=1500)\n",
    "longs = np.random.uniform(low=-180.000, high=180.000, size=1500)\n",
    "lat_longs = zip(lats, longs)"
   ]
  },
  {
   "cell_type": "code",
   "execution_count": 3,
   "metadata": {},
   "outputs": [],
   "source": [
    "for lat_long in lat_longs:\n",
    "    \n",
    "    # lat_long[0] is the first city on the lat and long, and go to the second city which is indicated by lat_long[1]. \n",
    "    city = citipy.nearest_city(lat_long[0], lat_long[1]).city_name\n",
    "    \n",
    "    # show all city in citipy libraries and put them into the list of cities and show them in the list\n",
    "    if city not in cities:\n",
    "        cities.append(city)"
   ]
  },
  {
   "cell_type": "code",
   "execution_count": 4,
   "metadata": {},
   "outputs": [
    {
     "name": "stdout",
     "output_type": "stream",
     "text": [
      "620\n"
     ]
    }
   ],
   "source": [
    "cities_list = list(lat_longs)\n",
    "print(len(cities))"
   ]
  },
  {
   "cell_type": "markdown",
   "metadata": {},
   "source": [
    "### Perform API Calls\n",
    "* Perform a weather check on each city using a series of successive API calls.\n",
    "* Include a print log of each city as it'sbeing processed (with the city number and city name).\n"
   ]
  },
  {
   "cell_type": "code",
   "execution_count": 6,
   "metadata": {
    "scrolled": true
   },
   "outputs": [],
   "source": [
    "# weather url \n",
    "weather_url = \"http://api.openweathermap.org/data/2.5/weather?units=Metric&\"\n",
    "\n",
    "# save the variables in each lists \n",
    "cloudiness = []\n",
    "country = []\n",
    "date = []\n",
    "max_temp = []\n",
    "humidity = []\n",
    "lat = []\n",
    "long = []\n",
    "wind_speed = []\n",
    "city_name = []"
   ]
  },
  {
   "cell_type": "code",
   "execution_count": 8,
   "metadata": {},
   "outputs": [
    {
     "name": "stdout",
     "output_type": "stream",
     "text": [
      "Processing record 1 of Set 1 : tuatapere.\n",
      "Processing record 1 of Set 1 : atuona.\n",
      "Processing record 1 of Set 1 : gallup.\n",
      "City not found. Skipping...\n",
      "Processing record 1 of Set 1 : isangel.\n",
      "Processing record 1 of Set 1 : nouadhibou.\n",
      "Processing record 1 of Set 1 : estrela.\n",
      "Processing record 1 of Set 1 : vanimo.\n",
      "Processing record 1 of Set 1 : sitka.\n",
      "Processing record 1 of Set 1 : hermanus.\n",
      "Processing record 1 of Set 1 : georgetown.\n",
      "Processing record 1 of Set 1 : sorong.\n",
      "Processing record 1 of Set 1 : aljezur.\n",
      "Processing record 1 of Set 1 : yellowknife.\n",
      "Processing record 1 of Set 1 : aksu.\n",
      "City not found. Skipping...\n",
      "Processing record 1 of Set 1 : ushuaia.\n",
      "Processing record 1 of Set 1 : busselton.\n",
      "Processing record 1 of Set 1 : bredasdorp.\n",
      "Processing record 1 of Set 1 : vila franca do campo.\n",
      "Processing record 1 of Set 1 : avarua.\n",
      "Processing record 1 of Set 1 : hithadhoo.\n",
      "Processing record 1 of Set 1 : coquimbo.\n",
      "Processing record 1 of Set 1 : rikitea.\n",
      "Processing record 1 of Set 1 : severo-kurilsk.\n",
      "Processing record 1 of Set 1 : cape town.\n",
      "Processing record 1 of Set 1 : dikson.\n",
      "Processing record 1 of Set 1 : rosarito.\n",
      "Processing record 1 of Set 1 : talara.\n",
      "Processing record 1 of Set 1 : castro.\n",
      "Processing record 1 of Set 1 : albany.\n",
      "Processing record 1 of Set 1 : port elizabeth.\n",
      "Processing record 1 of Set 1 : evensk.\n",
      "Processing record 1 of Set 1 : babylon.\n",
      "Processing record 1 of Set 1 : barrow.\n",
      "Processing record 1 of Set 1 : saint george.\n",
      "Processing record 1 of Set 1 : maraa.\n",
      "Processing record 1 of Set 1 : jalu.\n",
      "Processing record 1 of Set 1 : mahebourg.\n",
      "Processing record 1 of Set 1 : bandarbeyla.\n",
      "Processing record 1 of Set 1 : vestmannaeyjar.\n",
      "Processing record 1 of Set 1 : mataura.\n",
      "Processing record 1 of Set 1 : kardla.\n",
      "City not found. Skipping...\n",
      "Processing record 1 of Set 1 : bumba.\n",
      "City not found. Skipping...\n",
      "Processing record 1 of Set 1 : port alfred.\n",
      "Processing record 1 of Set 1 : kodiak.\n",
      "Processing record 1 of Set 1 : erzin.\n",
      "Processing record 1 of Set 1 : vaini.\n",
      "Processing record 1 of Set 1 : takoradi.\n",
      "Processing record 1 of Set 1 : jamestown.\n",
      "Processing record 1 of Set 1 : coari.\n",
      "Processing record 1 of Set 1 : nikolskoye.\n",
      "Processing record 1 of Set 1 : athabasca.\n",
      "Processing record 1 of Set 1 : gandajika.\n",
      "Processing record 1 of Set 1 : idrinskoye.\n",
      "Processing record 1 of Set 1 : dubrovka.\n",
      "City not found. Skipping...\n",
      "Processing record 1 of Set 1 : saint-philippe.\n",
      "Processing record 1 of Set 1 : lavrentiya.\n",
      "Processing record 1 of Set 1 : kapaa.\n",
      "Processing record 1 of Set 1 : kyabram.\n",
      "Processing record 1 of Set 1 : xiuyan.\n",
      "Processing record 1 of Set 1 : puerto ayora.\n",
      "Processing record 1 of Set 1 : carnarvon.\n",
      "Processing record 1 of Set 1 : thompson.\n",
      "Processing record 1 of Set 1 : binzhou.\n",
      "City not found. Skipping...\n",
      "City not found. Skipping...\n",
      "Processing record 1 of Set 1 : chuy.\n",
      "Processing record 1 of Set 1 : pevek.\n",
      "Processing record 1 of Set 1 : atasu.\n",
      "Processing record 1 of Set 1 : guarda.\n",
      "Processing record 1 of Set 1 : mount gambier.\n",
      "Processing record 1 of Set 1 : valdivia.\n",
      "Processing record 1 of Set 1 : aripuana.\n",
      "Processing record 1 of Set 1 : punta arenas.\n",
      "Processing record 1 of Set 1 : torbay.\n",
      "Processing record 1 of Set 1 : saint-pierre.\n",
      "Processing record 1 of Set 1 : olafsvik.\n",
      "Processing record 1 of Set 1 : clyde river.\n",
      "Processing record 1 of Set 1 : fortuna.\n",
      "Processing record 1 of Set 1 : igurubi.\n",
      "City not found. Skipping...\n",
      "Processing record 1 of Set 1 : beloha.\n",
      "Processing record 1 of Set 1 : kavieng.\n",
      "Processing record 1 of Set 1 : dawlatabad.\n",
      "Processing record 1 of Set 1 : joao pinheiro.\n",
      "Processing record 1 of Set 1 : linjiang.\n",
      "City not found. Skipping...\n",
      "Processing record 1 of Set 1 : aguimes.\n",
      "Processing record 1 of Set 1 : pangai.\n",
      "Processing record 1 of Set 1 : kulynychi.\n",
      "Processing record 1 of Set 1 : lompoc.\n",
      "Processing record 1 of Set 1 : huainan.\n",
      "Processing record 1 of Set 1 : bonthe.\n",
      "Processing record 1 of Set 1 : saldanha.\n",
      "City not found. Skipping...\n",
      "City not found. Skipping...\n",
      "Processing record 1 of Set 1 : tondano.\n",
      "City not found. Skipping...\n",
      "City not found. Skipping...\n",
      "Processing record 1 of Set 1 : buraydah.\n",
      "City not found. Skipping...\n",
      "Processing record 1 of Set 1 : hailey.\n",
      "Processing record 1 of Set 1 : mar del plata.\n",
      "Processing record 1 of Set 1 : brae.\n",
      "Processing record 1 of Set 1 : tuktoyaktuk.\n",
      "Processing record 1 of Set 1 : bonoua.\n",
      "Processing record 1 of Set 1 : naze.\n",
      "City not found. Skipping...\n",
      "Processing record 1 of Set 1 : visnes.\n",
      "Processing record 1 of Set 1 : iqaluit.\n",
      "Processing record 1 of Set 1 : bukachacha.\n",
      "Processing record 1 of Set 1 : san angelo.\n",
      "Processing record 1 of Set 1 : tura.\n",
      "Processing record 1 of Set 1 : san patricio.\n",
      "Processing record 1 of Set 1 : victoria.\n",
      "Processing record 1 of Set 1 : butaritari.\n",
      "Processing record 1 of Set 1 : husavik.\n",
      "Processing record 1 of Set 1 : grinties.\n",
      "Processing record 1 of Set 1 : dunn.\n",
      "Processing record 1 of Set 1 : nicoya.\n",
      "Processing record 1 of Set 1 : ouadda.\n",
      "Processing record 1 of Set 1 : sao joao do piaui.\n",
      "Processing record 1 of Set 1 : portland.\n",
      "Processing record 1 of Set 1 : touros.\n",
      "Processing record 1 of Set 1 : hualmay.\n",
      "Processing record 1 of Set 1 : hilo.\n",
      "Processing record 1 of Set 1 : esperance.\n",
      "Processing record 1 of Set 1 : la peca.\n",
      "Processing record 1 of Set 1 : margate.\n",
      "Processing record 1 of Set 1 : oliveira dos brejinhos.\n",
      "Processing record 1 of Set 1 : lashio.\n",
      "Processing record 1 of Set 1 : cidreira.\n",
      "Processing record 1 of Set 1 : mackenzie.\n",
      "Processing record 1 of Set 1 : xining.\n",
      "Processing record 1 of Set 1 : hobart.\n",
      "Processing record 1 of Set 1 : necochea.\n",
      "Processing record 1 of Set 1 : tasiilaq.\n",
      "Processing record 1 of Set 1 : geraldton.\n",
      "Processing record 1 of Set 1 : east london.\n",
      "Processing record 1 of Set 1 : alice springs.\n",
      "Processing record 1 of Set 1 : semey.\n",
      "Processing record 1 of Set 1 : guerrero negro.\n",
      "Processing record 1 of Set 1 : roquetas de mar.\n",
      "Processing record 1 of Set 1 : kaitangata.\n",
      "Processing record 1 of Set 1 : ilulissat.\n",
      "Processing record 1 of Set 1 : maamba.\n",
      "City not found. Skipping...\n",
      "Processing record 1 of Set 1 : bafq.\n",
      "Processing record 1 of Set 1 : nuuk.\n",
      "Processing record 1 of Set 1 : saint-francois.\n",
      "Processing record 1 of Set 1 : te anau.\n",
      "Processing record 1 of Set 1 : provideniya.\n",
      "City not found. Skipping...\n",
      "Processing record 1 of Set 1 : khasan.\n",
      "Processing record 1 of Set 1 : xuddur.\n",
      "Processing record 1 of Set 1 : angoche.\n",
      "Processing record 1 of Set 1 : wellington.\n",
      "Processing record 1 of Set 1 : ribeira grande.\n",
      "Processing record 1 of Set 1 : kaeo.\n",
      "Processing record 1 of Set 1 : imeni babushkina.\n",
      "Processing record 1 of Set 1 : lebu.\n",
      "Processing record 1 of Set 1 : ketchikan.\n",
      "Processing record 1 of Set 1 : ulladulla.\n",
      "Processing record 1 of Set 1 : praya.\n",
      "Processing record 1 of Set 1 : norman wells.\n",
      "Processing record 1 of Set 1 : freeport.\n",
      "Processing record 1 of Set 1 : qaanaaq.\n",
      "Processing record 1 of Set 1 : hami.\n",
      "Processing record 1 of Set 1 : tselina.\n",
      "Processing record 1 of Set 1 : coihaique.\n",
      "Processing record 1 of Set 1 : talnakh.\n",
      "Processing record 1 of Set 1 : raudeberg.\n",
      "Processing record 1 of Set 1 : ahuimanu.\n",
      "Processing record 1 of Set 1 : ukiah.\n",
      "Processing record 1 of Set 1 : selty.\n",
      "Processing record 1 of Set 1 : ostrovnoy.\n",
      "Processing record 1 of Set 1 : khatanga.\n",
      "Processing record 1 of Set 1 : bethel.\n",
      "Processing record 1 of Set 1 : zyryanka.\n",
      "Processing record 1 of Set 1 : haines junction.\n",
      "Processing record 1 of Set 1 : katherine.\n",
      "Processing record 1 of Set 1 : new norfolk.\n",
      "Processing record 1 of Set 1 : pochinki.\n",
      "Processing record 1 of Set 1 : luderitz.\n",
      "Processing record 1 of Set 1 : deputatskiy.\n",
      "Processing record 1 of Set 1 : souillac.\n",
      "Processing record 1 of Set 1 : quatre cocos.\n",
      "Processing record 1 of Set 1 : chaumont.\n",
      "Processing record 1 of Set 1 : verkhnyaya inta.\n",
      "City not found. Skipping...\n",
      "Processing record 1 of Set 1 : ergani.\n",
      "City not found. Skipping...\n",
      "Processing record 1 of Set 1 : slave lake.\n",
      "Processing record 1 of Set 1 : bluff.\n",
      "Processing record 1 of Set 1 : aklavik.\n",
      "Processing record 1 of Set 1 : wiarton.\n",
      "Processing record 1 of Set 1 : antofagasta.\n",
      "Processing record 1 of Set 1 : port lincoln.\n",
      "Processing record 1 of Set 1 : opuwo.\n",
      "Processing record 1 of Set 1 : chaah.\n",
      "Processing record 1 of Set 1 : kirakira.\n",
      "Processing record 1 of Set 1 : zirgan.\n",
      "Processing record 1 of Set 1 : ouro preto do oeste.\n",
      "Processing record 1 of Set 1 : chapais.\n",
      "Processing record 1 of Set 1 : sioux lookout.\n",
      "Processing record 1 of Set 1 : bubaque.\n",
      "Processing record 1 of Set 1 : labuhan.\n",
      "Processing record 1 of Set 1 : ewa beach.\n"
     ]
    },
    {
     "name": "stdout",
     "output_type": "stream",
     "text": [
      "Processing record 1 of Set 1 : sao filipe.\n",
      "Processing record 1 of Set 1 : jacmel.\n",
      "City not found. Skipping...\n",
      "Processing record 1 of Set 1 : kautokeino.\n",
      "Processing record 1 of Set 1 : praia da vitoria.\n",
      "Processing record 1 of Set 1 : port augusta.\n",
      "Processing record 1 of Set 1 : bardiyah.\n",
      "Processing record 1 of Set 1 : loandjili.\n",
      "Processing record 1 of Set 1 : najran.\n",
      "Processing record 1 of Set 1 : kununurra.\n",
      "Processing record 1 of Set 1 : den helder.\n",
      "Processing record 1 of Set 1 : hoquiam.\n",
      "Processing record 1 of Set 1 : saskylakh.\n",
      "Processing record 1 of Set 1 : bismarck.\n",
      "Processing record 1 of Set 1 : port macquarie.\n",
      "Processing record 1 of Set 1 : cabo san lucas.\n",
      "Processing record 1 of Set 1 : yangjiang.\n",
      "City not found. Skipping...\n",
      "Processing record 1 of Set 1 : port-cartier.\n",
      "Processing record 1 of Set 1 : dingle.\n",
      "Processing record 1 of Set 1 : letka.\n",
      "Processing record 1 of Set 1 : henties bay.\n",
      "Processing record 1 of Set 1 : katima mulilo.\n",
      "Processing record 1 of Set 1 : vilhena.\n",
      "Processing record 1 of Set 1 : ormara.\n",
      "Processing record 1 of Set 1 : namibe.\n",
      "Processing record 1 of Set 1 : pingliang.\n",
      "Processing record 1 of Set 1 : sao joao da barra.\n",
      "Processing record 1 of Set 1 : vila velha.\n",
      "City not found. Skipping...\n",
      "Processing record 1 of Set 1 : boa vista.\n",
      "Processing record 1 of Set 1 : westport.\n",
      "Processing record 1 of Set 1 : shimoda.\n",
      "Processing record 1 of Set 1 : goderich.\n",
      "Processing record 1 of Set 1 : bahia blanca.\n",
      "Processing record 1 of Set 1 : manta.\n",
      "Processing record 1 of Set 1 : juigalpa.\n",
      "Processing record 1 of Set 1 : spalene porici.\n",
      "Processing record 1 of Set 1 : kikwit.\n",
      "Processing record 1 of Set 1 : ribas do rio pardo.\n",
      "Processing record 1 of Set 1 : bud.\n",
      "Processing record 1 of Set 1 : hokitika.\n",
      "Processing record 1 of Set 1 : ugoofaaru.\n",
      "Processing record 1 of Set 1 : lorengau.\n",
      "Processing record 1 of Set 1 : camapua.\n",
      "Processing record 1 of Set 1 : kushima.\n",
      "Processing record 1 of Set 1 : yining.\n",
      "Processing record 1 of Set 1 : khudumelapye.\n",
      "Processing record 1 of Set 1 : ornskoldsvik.\n",
      "Processing record 1 of Set 1 : faanui.\n",
      "Processing record 1 of Set 1 : marstal.\n",
      "Processing record 1 of Set 1 : lata.\n",
      "Processing record 1 of Set 1 : sambava.\n",
      "Processing record 1 of Set 1 : nemuro.\n",
      "Processing record 1 of Set 1 : general cepeda.\n",
      "Processing record 1 of Set 1 : porto tolle.\n",
      "Processing record 1 of Set 1 : codrington.\n",
      "Processing record 1 of Set 1 : ormond beach.\n",
      "City not found. Skipping...\n",
      "Processing record 1 of Set 1 : salto.\n",
      "Processing record 1 of Set 1 : qandala.\n",
      "Processing record 1 of Set 1 : kyshtovka.\n",
      "Processing record 1 of Set 1 : pestovo.\n",
      "Processing record 1 of Set 1 : san jeronimo.\n",
      "Processing record 1 of Set 1 : kuytun.\n",
      "Processing record 1 of Set 1 : piacabucu.\n",
      "Processing record 1 of Set 1 : alyangula.\n",
      "Processing record 1 of Set 1 : yibin.\n",
      "Processing record 1 of Set 1 : broken hill.\n",
      "Processing record 1 of Set 1 : bambous virieux.\n",
      "Processing record 1 of Set 1 : tandil.\n",
      "Processing record 1 of Set 1 : broome.\n",
      "Processing record 1 of Set 1 : karlshamn.\n",
      "Processing record 1 of Set 1 : vostok.\n",
      "Processing record 1 of Set 1 : chokurdakh.\n",
      "City not found. Skipping...\n",
      "Processing record 1 of Set 1 : cherskiy.\n",
      "Processing record 1 of Set 1 : dicamay.\n",
      "Processing record 1 of Set 1 : kruisfontein.\n",
      "Processing record 1 of Set 1 : grand gaube.\n",
      "Processing record 1 of Set 1 : barcelos.\n",
      "Processing record 1 of Set 1 : tiksi.\n",
      "Processing record 1 of Set 1 : maturin.\n",
      "Processing record 1 of Set 1 : muli.\n",
      "Processing record 1 of Set 1 : gold coast.\n",
      "Processing record 1 of Set 1 : andenes.\n",
      "Processing record 1 of Set 1 : barao de melgaco.\n",
      "Processing record 1 of Set 1 : kotido.\n",
      "Processing record 1 of Set 1 : walvis bay.\n",
      "Processing record 1 of Set 1 : cayenne.\n",
      "City not found. Skipping...\n",
      "Processing record 1 of Set 1 : njombe.\n",
      "Processing record 1 of Set 1 : moron.\n",
      "Processing record 1 of Set 1 : sakakah.\n",
      "Processing record 1 of Set 1 : elizabeth city.\n",
      "Processing record 1 of Set 1 : ballina.\n",
      "Processing record 1 of Set 1 : nizhniy baskunchak.\n",
      "Processing record 1 of Set 1 : mezhdurechensk.\n",
      "Processing record 1 of Set 1 : halifax.\n",
      "Processing record 1 of Set 1 : tual.\n",
      "Processing record 1 of Set 1 : mwinilunga.\n",
      "City not found. Skipping...\n",
      "Processing record 1 of Set 1 : botwood.\n",
      "Processing record 1 of Set 1 : mishkino.\n",
      "Processing record 1 of Set 1 : tiarei.\n",
      "Processing record 1 of Set 1 : tsabong.\n",
      "Processing record 1 of Set 1 : upernavik.\n",
      "Processing record 1 of Set 1 : plettenberg bay.\n",
      "Processing record 1 of Set 1 : shingu.\n",
      "Processing record 1 of Set 1 : la ronge.\n",
      "Processing record 1 of Set 1 : humberto de campos.\n",
      "Processing record 1 of Set 1 : chara.\n",
      "Processing record 1 of Set 1 : hay river.\n",
      "Processing record 1 of Set 1 : am timan.\n",
      "Processing record 1 of Set 1 : wanning.\n",
      "Processing record 1 of Set 1 : luba.\n",
      "Processing record 1 of Set 1 : acajutla.\n",
      "City not found. Skipping...\n",
      "Processing record 1 of Set 1 : general roca.\n",
      "Processing record 1 of Set 1 : rincon.\n",
      "City not found. Skipping...\n",
      "Processing record 1 of Set 1 : pinheiro machado.\n",
      "Processing record 1 of Set 1 : hamilton.\n",
      "Processing record 1 of Set 1 : kupang.\n",
      "Processing record 1 of Set 1 : omboue.\n",
      "Processing record 1 of Set 1 : drexel heights.\n",
      "Processing record 1 of Set 1 : matara.\n",
      "City not found. Skipping...\n",
      "Processing record 1 of Set 1 : axim.\n",
      "City not found. Skipping...\n",
      "Processing record 1 of Set 1 : charlestown.\n",
      "Processing record 1 of Set 1 : santa lucia.\n",
      "Processing record 1 of Set 1 : krasnyy oktyabr.\n",
      "Processing record 1 of Set 1 : leland.\n",
      "Processing record 1 of Set 1 : longyearbyen.\n",
      "Processing record 1 of Set 1 : baruun-urt.\n",
      "Processing record 1 of Set 1 : zaraza.\n",
      "Processing record 1 of Set 1 : roma.\n",
      "Processing record 1 of Set 1 : mohelnice.\n",
      "Processing record 1 of Set 1 : cap malheureux.\n",
      "Processing record 1 of Set 1 : katsuura.\n",
      "Processing record 1 of Set 1 : padang.\n",
      "Processing record 1 of Set 1 : filadelfia.\n",
      "Processing record 1 of Set 1 : juneau.\n",
      "Processing record 1 of Set 1 : marrakesh.\n",
      "Processing record 1 of Set 1 : ust-nera.\n",
      "Processing record 1 of Set 1 : korla.\n",
      "Processing record 1 of Set 1 : yulara.\n",
      "Processing record 1 of Set 1 : hasaki.\n",
      "Processing record 1 of Set 1 : honningsvag.\n",
      "Processing record 1 of Set 1 : aksarka.\n",
      "Processing record 1 of Set 1 : praia.\n",
      "Processing record 1 of Set 1 : novyy urengoy.\n",
      "Processing record 1 of Set 1 : graneros.\n",
      "Processing record 1 of Set 1 : ahipara.\n",
      "Processing record 1 of Set 1 : srednekolymsk.\n",
      "Processing record 1 of Set 1 : nanortalik.\n",
      "Processing record 1 of Set 1 : dergachi.\n",
      "Processing record 1 of Set 1 : palmas bellas.\n",
      "Processing record 1 of Set 1 : peterborough.\n",
      "Processing record 1 of Set 1 : san carlos de bariloche.\n",
      "Processing record 1 of Set 1 : san sebastian de los reyes.\n",
      "Processing record 1 of Set 1 : araouane.\n",
      "Processing record 1 of Set 1 : harper.\n",
      "Processing record 1 of Set 1 : kahului.\n",
      "Processing record 1 of Set 1 : whitianga.\n",
      "Processing record 1 of Set 1 : arlit.\n",
      "Processing record 1 of Set 1 : rehli.\n",
      "Processing record 1 of Set 1 : goksun.\n",
      "Processing record 1 of Set 1 : laguna.\n",
      "Processing record 1 of Set 1 : tynda.\n",
      "Processing record 1 of Set 1 : taoudenni.\n",
      "Processing record 1 of Set 1 : arraial do cabo.\n",
      "Processing record 1 of Set 1 : chulym.\n",
      "City not found. Skipping...\n",
      "Processing record 1 of Set 1 : qaqortoq.\n",
      "Processing record 1 of Set 1 : samana.\n",
      "Processing record 1 of Set 1 : puerto escondido.\n",
      "Processing record 1 of Set 1 : camacha.\n",
      "Processing record 1 of Set 1 : kralendijk.\n",
      "Processing record 1 of Set 1 : zhengjiatun.\n",
      "Processing record 1 of Set 1 : tautira.\n",
      "Processing record 1 of Set 1 : oktyabrskiy.\n",
      "Processing record 1 of Set 1 : inzhavino.\n",
      "Processing record 1 of Set 1 : aasiaat.\n",
      "Processing record 1 of Set 1 : tobol.\n",
      "Processing record 1 of Set 1 : baturaja.\n",
      "Processing record 1 of Set 1 : honiara.\n",
      "City not found. Skipping...\n",
      "City not found. Skipping...\n",
      "Processing record 1 of Set 1 : vilyuysk.\n",
      "City not found. Skipping...\n",
      "Processing record 1 of Set 1 : stromness.\n",
      "Processing record 1 of Set 1 : colares.\n",
      "Processing record 1 of Set 1 : otane.\n",
      "Processing record 1 of Set 1 : northam.\n",
      "Processing record 1 of Set 1 : malpe.\n",
      "Processing record 1 of Set 1 : caravelas.\n",
      "Processing record 1 of Set 1 : san cristobal.\n",
      "Processing record 1 of Set 1 : sorland.\n",
      "Processing record 1 of Set 1 : mercedes.\n",
      "City not found. Skipping...\n",
      "Processing record 1 of Set 1 : bastia.\n",
      "Processing record 1 of Set 1 : callaway.\n",
      "Processing record 1 of Set 1 : ferrol.\n",
      "Processing record 1 of Set 1 : barentu.\n"
     ]
    },
    {
     "name": "stdout",
     "output_type": "stream",
     "text": [
      "Processing record 1 of Set 1 : general pico.\n",
      "City not found. Skipping...\n",
      "Processing record 1 of Set 1 : alofi.\n",
      "Processing record 1 of Set 1 : kanniyakumari.\n",
      "Processing record 1 of Set 1 : dalaba.\n",
      "Processing record 1 of Set 1 : bilma.\n",
      "Processing record 1 of Set 1 : kursenai.\n",
      "Processing record 1 of Set 1 : ponta do sol.\n",
      "Processing record 1 of Set 1 : quepos.\n",
      "Processing record 1 of Set 1 : vardo.\n",
      "Processing record 1 of Set 1 : susangerd.\n",
      "Processing record 1 of Set 1 : moissala.\n",
      "Processing record 1 of Set 1 : komsomolskiy.\n",
      "Processing record 1 of Set 1 : trincomalee.\n",
      "Processing record 1 of Set 1 : taebla.\n",
      "Processing record 1 of Set 1 : kalmunai.\n",
      "Processing record 1 of Set 1 : moroni.\n",
      "Processing record 1 of Set 1 : dunedin.\n",
      "Processing record 1 of Set 1 : atar.\n",
      "City not found. Skipping...\n",
      "Processing record 1 of Set 1 : bosaso.\n",
      "Processing record 1 of Set 1 : sinnamary.\n",
      "Processing record 1 of Set 1 : bani.\n",
      "Processing record 1 of Set 1 : nyaunglebin.\n",
      "Processing record 1 of Set 1 : hirara.\n",
      "Processing record 1 of Set 1 : pacific grove.\n",
      "Processing record 1 of Set 1 : serebryanyy bor.\n",
      "Processing record 1 of Set 1 : paris.\n",
      "Processing record 1 of Set 1 : znamenskoye.\n",
      "Processing record 1 of Set 1 : ancud.\n",
      "Processing record 1 of Set 1 : noumea.\n",
      "Processing record 1 of Set 1 : richards bay.\n",
      "Processing record 1 of Set 1 : wajima.\n",
      "Processing record 1 of Set 1 : airai.\n",
      "Processing record 1 of Set 1 : ranong.\n",
      "Processing record 1 of Set 1 : hervey bay.\n",
      "Processing record 1 of Set 1 : mogzon.\n",
      "Processing record 1 of Set 1 : faya.\n",
      "Processing record 1 of Set 1 : havre-saint-pierre.\n",
      "Processing record 1 of Set 1 : baswa.\n",
      "Processing record 1 of Set 1 : matamoros.\n",
      "Processing record 1 of Set 1 : okhotsk.\n",
      "Processing record 1 of Set 1 : virden.\n",
      "Processing record 1 of Set 1 : yaan.\n",
      "Processing record 1 of Set 1 : qasigiannguit.\n",
      "Processing record 1 of Set 1 : novoagansk.\n",
      "Processing record 1 of Set 1 : nechi.\n",
      "Processing record 1 of Set 1 : darnah.\n",
      "City not found. Skipping...\n",
      "Processing record 1 of Set 1 : tutoia.\n",
      "Processing record 1 of Set 1 : altay.\n",
      "Processing record 1 of Set 1 : jumla.\n",
      "Processing record 1 of Set 1 : gioia tauro.\n",
      "City not found. Skipping...\n",
      "Processing record 1 of Set 1 : andros town.\n",
      "Processing record 1 of Set 1 : matagami.\n",
      "Processing record 1 of Set 1 : hofn.\n",
      "City not found. Skipping...\n",
      "City not found. Skipping...\n",
      "Processing record 1 of Set 1 : aykhal.\n",
      "Processing record 1 of Set 1 : menongue.\n",
      "Processing record 1 of Set 1 : inuvik.\n",
      "Processing record 1 of Set 1 : chaman.\n",
      "Processing record 1 of Set 1 : launceston.\n",
      "Processing record 1 of Set 1 : villa carlos paz.\n",
      "Processing record 1 of Set 1 : catamarca.\n",
      "Processing record 1 of Set 1 : miajadas.\n",
      "Processing record 1 of Set 1 : taua.\n",
      "Processing record 1 of Set 1 : sakata.\n",
      "Processing record 1 of Set 1 : nome.\n",
      "Processing record 1 of Set 1 : nador.\n",
      "Processing record 1 of Set 1 : denpasar.\n",
      "Processing record 1 of Set 1 : emerald.\n",
      "Processing record 1 of Set 1 : krasnoselkup.\n",
      "Processing record 1 of Set 1 : malanje.\n",
      "Processing record 1 of Set 1 : talaya.\n",
      "Processing record 1 of Set 1 : ananas.\n",
      "Processing record 1 of Set 1 : basingstoke.\n",
      "Processing record 1 of Set 1 : mecca.\n",
      "Processing record 1 of Set 1 : siauliai.\n",
      "Processing record 1 of Set 1 : rajanpur.\n",
      "Processing record 1 of Set 1 : trairi.\n",
      "Processing record 1 of Set 1 : soto la marina.\n",
      "Processing record 1 of Set 1 : hambantota.\n",
      "Processing record 1 of Set 1 : sfantu gheorghe.\n",
      "Processing record 1 of Set 1 : maniitsoq.\n",
      "Processing record 1 of Set 1 : ixtapa.\n",
      "Processing record 1 of Set 1 : pekalongan.\n",
      "Processing record 1 of Set 1 : tacuarembo.\n",
      "Processing record 1 of Set 1 : joensuu.\n",
      "Processing record 1 of Set 1 : berlevag.\n",
      "City not found. Skipping...\n",
      "Processing record 1 of Set 1 : flinders.\n",
      "Processing record 1 of Set 1 : payo.\n",
      "Processing record 1 of Set 1 : price.\n",
      "Processing record 1 of Set 1 : magistralnyy.\n",
      "Processing record 1 of Set 1 : mnogovershinnyy.\n",
      "Processing record 1 of Set 1 : itoman.\n",
      "Processing record 1 of Set 1 : zhezkazgan.\n",
      "Processing record 1 of Set 1 : samfya.\n",
      "City not found. Skipping...\n",
      "Processing record 1 of Set 1 : port hedland.\n",
      "Processing record 1 of Set 1 : oga.\n",
      "Processing record 1 of Set 1 : lasa.\n",
      "Processing record 1 of Set 1 : kaduna.\n",
      "Processing record 1 of Set 1 : bilibino.\n",
      "Processing record 1 of Set 1 : mogadishu.\n",
      "Processing record 1 of Set 1 : antsohihy.\n",
      "Processing record 1 of Set 1 : kozmodemyansk.\n",
      "Processing record 1 of Set 1 : sampit.\n",
      "Processing record 1 of Set 1 : sangar.\n",
      "Processing record 1 of Set 1 : sao felix do xingu.\n",
      "Processing record 1 of Set 1 : bathsheba.\n",
      "Processing record 1 of Set 1 : olinda.\n",
      "Processing record 1 of Set 1 : thunder bay.\n",
      "City not found. Skipping...\n",
      "Processing record 1 of Set 1 : eureka.\n",
      "Processing record 1 of Set 1 : urubicha.\n",
      "Processing record 1 of Set 1 : kushmurun.\n",
      "Processing record 1 of Set 1 : tupik.\n",
      "Processing record 1 of Set 1 : carutapera.\n",
      "Processing record 1 of Set 1 : saint anthony.\n",
      "Processing record 1 of Set 1 : bacolod.\n",
      "City not found. Skipping...\n",
      "City not found. Skipping...\n",
      "Processing record 1 of Set 1 : clonakilty.\n",
      "Processing record 1 of Set 1 : melipilla.\n",
      "Processing record 1 of Set 1 : adrar.\n",
      "Processing record 1 of Set 1 : kosh-agach.\n",
      "City not found. Skipping...\n",
      "Processing record 1 of Set 1 : ola.\n",
      "Processing record 1 of Set 1 : lagoa.\n",
      "Processing record 1 of Set 1 : sola.\n",
      "Processing record 1 of Set 1 : huarmey.\n",
      "Processing record 1 of Set 1 : grindavik.\n",
      "Processing record 1 of Set 1 : balkhash.\n",
      "Processing record 1 of Set 1 : perevolotskiy.\n",
      "Processing record 1 of Set 1 : panzhihua.\n",
      "Processing record 1 of Set 1 : qui nhon.\n",
      "Processing record 1 of Set 1 : kamenka.\n",
      "Processing record 1 of Set 1 : sibolga.\n",
      "Processing record 1 of Set 1 : moscow.\n",
      "Processing record 1 of Set 1 : marche-en-famenne.\n",
      "Processing record 1 of Set 1 : north bend.\n",
      "Processing record 1 of Set 1 : toucheng.\n",
      "Processing record 1 of Set 1 : keuruu.\n",
      "Processing record 1 of Set 1 : banda aceh.\n",
      "Processing record 1 of Set 1 : songea.\n",
      "Processing record 1 of Set 1 : stryn.\n",
      "Processing record 1 of Set 1 : tonstad.\n",
      "Processing record 1 of Set 1 : jacareacanga.\n",
      "Processing record 1 of Set 1 : diamantino.\n",
      "Processing record 1 of Set 1 : dakar.\n",
      "Processing record 1 of Set 1 : calvinia.\n",
      "Processing record 1 of Set 1 : yenagoa.\n",
      "City not found. Skipping...\n",
      "Processing record 1 of Set 1 : sao gabriel da cachoeira.\n",
      "Processing record 1 of Set 1 : iberia.\n",
      "Processing record 1 of Set 1 : orange.\n",
      "Processing record 1 of Set 1 : kendari.\n",
      "Processing record 1 of Set 1 : kundiawa.\n",
      "City not found. Skipping...\n",
      "Processing record 1 of Set 1 : bealanana.\n",
      "Processing record 1 of Set 1 : khandbari.\n",
      "Processing record 1 of Set 1 : pisco.\n",
      "Processing record 1 of Set 1 : peniche.\n",
      "Processing record 1 of Set 1 : isla mujeres.\n",
      "Processing record 1 of Set 1 : hudson bay.\n",
      "City not found. Skipping...\n",
      "Processing record 1 of Set 1 : sarakhs.\n",
      "Processing record 1 of Set 1 : churapcha.\n",
      "Processing record 1 of Set 1 : ventersburg.\n",
      "Processing record 1 of Set 1 : lagos.\n",
      "Processing record 1 of Set 1 : pangnirtung.\n",
      "Processing record 1 of Set 1 : cashel.\n",
      "Processing record 1 of Set 1 : tootsi.\n",
      "Processing record 1 of Set 1 : asau.\n",
      "City not found. Skipping...\n",
      "Processing record 1 of Set 1 : tatarsk.\n",
      "Processing record 1 of Set 1 : manzhouli.\n",
      "Processing record 1 of Set 1 : salalah.\n",
      "Processing record 1 of Set 1 : chulumani.\n",
      "Processing record 1 of Set 1 : lima.\n",
      "Processing record 1 of Set 1 : lexington.\n",
      "Processing record 1 of Set 1 : imbituba.\n",
      "Processing record 1 of Set 1 : fukue.\n",
      "Processing record 1 of Set 1 : san quintin.\n",
      "Processing record 1 of Set 1 : bokhan.\n",
      "Processing record 1 of Set 1 : belmonte.\n",
      "Processing record 1 of Set 1 : maningrida.\n",
      "Processing record 1 of Set 1 : bengkulu.\n",
      "Processing record 1 of Set 1 : buala.\n",
      "Processing record 1 of Set 1 : tilichiki.\n",
      "City not found. Skipping...\n",
      "Processing record 1 of Set 1 : avera.\n",
      "Processing record 1 of Set 1 : dalvik.\n",
      "City not found. Skipping...\n",
      "City not found. Skipping...\n",
      "Processing record 1 of Set 1 : tezu.\n",
      "Processing record 1 of Set 1 : maneadero.\n",
      "Processing record 1 of Set 1 : leh.\n",
      "Processing record 1 of Set 1 : port hardy.\n"
     ]
    }
   ],
   "source": [
    "# set up an index for each cities in the list \n",
    "index=1\n",
    "\n",
    "for city in cities:\n",
    "    \n",
    "    # string concatenation, adding a string together \n",
    "    # query_url = weather_url + \"appid=\" + weather_api_key + \"&q=\" + city\n",
    "    query_url = f\"{weather_url}appid={weather_api_key}&q={city}\"\n",
    "    \n",
    "    # create a get requests to the query_url created and converted to json data and save them to the response variable \n",
    "    response = requests.get(query_url).json()\n",
    "    \n",
    "    # try to go through all the data in corresponding to the response and store them in the list created\n",
    "    try:\n",
    "        cloudiness.append(response[\"clouds\"][\"all\"])\n",
    "        country.append(response[\"sys\"][\"country\"])\n",
    "        date.append(response[\"dt\"])\n",
    "        max_temp.append(response[\"main\"][\"temp_max\"])\n",
    "        humidity.append(response[\"main\"][\"humidity\"])\n",
    "        lat.append(response[\"coord\"][\"lat\"])\n",
    "        long.append(response[\"coord\"][\"lon\"])\n",
    "        wind_speed.append(response[\"wind\"][\"speed\"])\n",
    "        city_name.append(response[\"name\"])\n",
    "        \n",
    "        # print the final names of the city in corressponding to the index in the library \n",
    "        print(f'Processing record {index} of Set 1 : {city}.')\n",
    "        \n",
    "    except(KeyError):\n",
    "        print(\"City not found. Skipping...\")"
   ]
  },
  {
   "cell_type": "markdown",
   "metadata": {},
   "source": [
    "### Convert Raw Data to DataFrame\n",
    "* Export the city data into a .csv.\n",
    "* Display the DataFrame"
   ]
  },
  {
   "cell_type": "code",
   "execution_count": 11,
   "metadata": {},
   "outputs": [],
   "source": [
    "# store each lists to the dataframe \n",
    "city_df = pd.DataFrame({\"City\": city_name,\n",
    "                        \"Cloudiness\": cloudiness,\n",
    "                        \"Country\": country,\n",
    "                        \"Date\": date,\n",
    "                        \"Humidity\": humidity,\n",
    "                        \"Lat\": lat,\n",
    "                        \"Long\": long,\n",
    "                        \"Max Temp\": max_temp,\n",
    "                        \"Wind Speed\": wind_speed})\n",
    "\n",
    "# rename its axis or index to City ID instead of the index number for clarification \n",
    "city_df = city_df.rename_axis('City ID')"
   ]
  },
  {
   "cell_type": "code",
   "execution_count": 12,
   "metadata": {},
   "outputs": [
    {
     "data": {
      "text/html": [
       "<div>\n",
       "<style scoped>\n",
       "    .dataframe tbody tr th:only-of-type {\n",
       "        vertical-align: middle;\n",
       "    }\n",
       "\n",
       "    .dataframe tbody tr th {\n",
       "        vertical-align: top;\n",
       "    }\n",
       "\n",
       "    .dataframe thead th {\n",
       "        text-align: right;\n",
       "    }\n",
       "</style>\n",
       "<table border=\"1\" class=\"dataframe\">\n",
       "  <thead>\n",
       "    <tr style=\"text-align: right;\">\n",
       "      <th></th>\n",
       "      <th>City</th>\n",
       "      <th>Cloudiness</th>\n",
       "      <th>Country</th>\n",
       "      <th>Date</th>\n",
       "      <th>Humidity</th>\n",
       "      <th>Lat</th>\n",
       "      <th>Long</th>\n",
       "      <th>Max Temp</th>\n",
       "      <th>Wind Speed</th>\n",
       "    </tr>\n",
       "    <tr>\n",
       "      <th>City ID</th>\n",
       "      <th></th>\n",
       "      <th></th>\n",
       "      <th></th>\n",
       "      <th></th>\n",
       "      <th></th>\n",
       "      <th></th>\n",
       "      <th></th>\n",
       "      <th></th>\n",
       "      <th></th>\n",
       "    </tr>\n",
       "  </thead>\n",
       "  <tbody>\n",
       "    <tr>\n",
       "      <th>0</th>\n",
       "      <td>Tuatapere</td>\n",
       "      <td>99</td>\n",
       "      <td>NZ</td>\n",
       "      <td>1600371539</td>\n",
       "      <td>81</td>\n",
       "      <td>-46.13</td>\n",
       "      <td>167.68</td>\n",
       "      <td>3.89</td>\n",
       "      <td>3.58</td>\n",
       "    </tr>\n",
       "    <tr>\n",
       "      <th>1</th>\n",
       "      <td>Atuona</td>\n",
       "      <td>39</td>\n",
       "      <td>PF</td>\n",
       "      <td>1600371825</td>\n",
       "      <td>78</td>\n",
       "      <td>-9.80</td>\n",
       "      <td>-139.03</td>\n",
       "      <td>25.34</td>\n",
       "      <td>9.56</td>\n",
       "    </tr>\n",
       "    <tr>\n",
       "      <th>2</th>\n",
       "      <td>Gallup</td>\n",
       "      <td>1</td>\n",
       "      <td>US</td>\n",
       "      <td>1600371728</td>\n",
       "      <td>15</td>\n",
       "      <td>35.53</td>\n",
       "      <td>-108.74</td>\n",
       "      <td>26.00</td>\n",
       "      <td>2.60</td>\n",
       "    </tr>\n",
       "    <tr>\n",
       "      <th>3</th>\n",
       "      <td>Isangel</td>\n",
       "      <td>75</td>\n",
       "      <td>VU</td>\n",
       "      <td>1600371825</td>\n",
       "      <td>94</td>\n",
       "      <td>-19.55</td>\n",
       "      <td>169.27</td>\n",
       "      <td>21.00</td>\n",
       "      <td>4.30</td>\n",
       "    </tr>\n",
       "    <tr>\n",
       "      <th>4</th>\n",
       "      <td>Nouadhibou</td>\n",
       "      <td>79</td>\n",
       "      <td>MR</td>\n",
       "      <td>1600371825</td>\n",
       "      <td>67</td>\n",
       "      <td>20.93</td>\n",
       "      <td>-17.03</td>\n",
       "      <td>26.59</td>\n",
       "      <td>8.31</td>\n",
       "    </tr>\n",
       "  </tbody>\n",
       "</table>\n",
       "</div>"
      ],
      "text/plain": [
       "               City  Cloudiness Country        Date  Humidity    Lat    Long  \\\n",
       "City ID                                                                        \n",
       "0         Tuatapere          99      NZ  1600371539        81 -46.13  167.68   \n",
       "1            Atuona          39      PF  1600371825        78  -9.80 -139.03   \n",
       "2            Gallup           1      US  1600371728        15  35.53 -108.74   \n",
       "3           Isangel          75      VU  1600371825        94 -19.55  169.27   \n",
       "4        Nouadhibou          79      MR  1600371825        67  20.93  -17.03   \n",
       "\n",
       "         Max Temp  Wind Speed  \n",
       "City ID                        \n",
       "0            3.89        3.58  \n",
       "1           25.34        9.56  \n",
       "2           26.00        2.60  \n",
       "3           21.00        4.30  \n",
       "4           26.59        8.31  "
      ]
     },
     "execution_count": 12,
     "metadata": {},
     "output_type": "execute_result"
    }
   ],
   "source": [
    "# save it to the csv file using to_csv function and set up an encoding to utf-8\n",
    "city_df.to_csv(\"city_data.csv\", encoding=\"utf-8\")\n",
    "\n",
    "# retrive the first 5 dataframe \n",
    "city_df.head()"
   ]
  },
  {
   "cell_type": "markdown",
   "metadata": {},
   "source": [
    "## Inspect the data and remove the cities where the humidity > 100%.\n",
    "----\n",
    "Skip this step if there are no cities that have humidity > 100%. "
   ]
  },
  {
   "cell_type": "code",
   "execution_count": 22,
   "metadata": {},
   "outputs": [
    {
     "data": {
      "text/html": [
       "<div>\n",
       "<style scoped>\n",
       "    .dataframe tbody tr th:only-of-type {\n",
       "        vertical-align: middle;\n",
       "    }\n",
       "\n",
       "    .dataframe tbody tr th {\n",
       "        vertical-align: top;\n",
       "    }\n",
       "\n",
       "    .dataframe thead th {\n",
       "        text-align: right;\n",
       "    }\n",
       "</style>\n",
       "<table border=\"1\" class=\"dataframe\">\n",
       "  <thead>\n",
       "    <tr style=\"text-align: right;\">\n",
       "      <th></th>\n",
       "      <th>City</th>\n",
       "      <th>Cloudiness</th>\n",
       "      <th>Country</th>\n",
       "      <th>Date</th>\n",
       "      <th>Humidity</th>\n",
       "      <th>Lat</th>\n",
       "      <th>Long</th>\n",
       "      <th>Max Temp</th>\n",
       "      <th>Wind Speed</th>\n",
       "    </tr>\n",
       "    <tr>\n",
       "      <th>City ID</th>\n",
       "      <th></th>\n",
       "      <th></th>\n",
       "      <th></th>\n",
       "      <th></th>\n",
       "      <th></th>\n",
       "      <th></th>\n",
       "      <th></th>\n",
       "      <th></th>\n",
       "      <th></th>\n",
       "    </tr>\n",
       "  </thead>\n",
       "  <tbody>\n",
       "    <tr>\n",
       "      <th>490</th>\n",
       "      <td>Eureka</td>\n",
       "      <td>16</td>\n",
       "      <td>US</td>\n",
       "      <td>1600371888</td>\n",
       "      <td>100</td>\n",
       "      <td>40.80</td>\n",
       "      <td>-124.16</td>\n",
       "      <td>21.11</td>\n",
       "      <td>4.23</td>\n",
       "    </tr>\n",
       "    <tr>\n",
       "      <th>301</th>\n",
       "      <td>Luba</td>\n",
       "      <td>40</td>\n",
       "      <td>GQ</td>\n",
       "      <td>1600371865</td>\n",
       "      <td>100</td>\n",
       "      <td>3.46</td>\n",
       "      <td>8.55</td>\n",
       "      <td>25.00</td>\n",
       "      <td>3.10</td>\n",
       "    </tr>\n",
       "    <tr>\n",
       "      <th>947</th>\n",
       "      <td>Ferrol</td>\n",
       "      <td>40</td>\n",
       "      <td>ES</td>\n",
       "      <td>1600371874</td>\n",
       "      <td>100</td>\n",
       "      <td>43.48</td>\n",
       "      <td>-8.24</td>\n",
       "      <td>16.67</td>\n",
       "      <td>1.50</td>\n",
       "    </tr>\n",
       "    <tr>\n",
       "      <th>272</th>\n",
       "      <td>Gold Coast</td>\n",
       "      <td>90</td>\n",
       "      <td>AU</td>\n",
       "      <td>1600371861</td>\n",
       "      <td>100</td>\n",
       "      <td>-28.00</td>\n",
       "      <td>153.43</td>\n",
       "      <td>16.67</td>\n",
       "      <td>2.44</td>\n",
       "    </tr>\n",
       "    <tr>\n",
       "      <th>952</th>\n",
       "      <td>Dalaba</td>\n",
       "      <td>100</td>\n",
       "      <td>GN</td>\n",
       "      <td>1600371875</td>\n",
       "      <td>100</td>\n",
       "      <td>10.70</td>\n",
       "      <td>-12.25</td>\n",
       "      <td>18.05</td>\n",
       "      <td>1.69</td>\n",
       "    </tr>\n",
       "    <tr>\n",
       "      <th>...</th>\n",
       "      <td>...</td>\n",
       "      <td>...</td>\n",
       "      <td>...</td>\n",
       "      <td>...</td>\n",
       "      <td>...</td>\n",
       "      <td>...</td>\n",
       "      <td>...</td>\n",
       "      <td>...</td>\n",
       "      <td>...</td>\n",
       "    </tr>\n",
       "    <tr>\n",
       "      <th>591</th>\n",
       "      <td>Rosarito</td>\n",
       "      <td>75</td>\n",
       "      <td>MX</td>\n",
       "      <td>1600371829</td>\n",
       "      <td>11</td>\n",
       "      <td>32.33</td>\n",
       "      <td>-117.03</td>\n",
       "      <td>35.00</td>\n",
       "      <td>4.10</td>\n",
       "    </tr>\n",
       "    <tr>\n",
       "      <th>840</th>\n",
       "      <td>Barão de Melgaço</td>\n",
       "      <td>93</td>\n",
       "      <td>BR</td>\n",
       "      <td>1600371861</td>\n",
       "      <td>11</td>\n",
       "      <td>-16.19</td>\n",
       "      <td>-55.97</td>\n",
       "      <td>39.00</td>\n",
       "      <td>3.10</td>\n",
       "    </tr>\n",
       "    <tr>\n",
       "      <th>25</th>\n",
       "      <td>Rosarito</td>\n",
       "      <td>75</td>\n",
       "      <td>MX</td>\n",
       "      <td>1600371829</td>\n",
       "      <td>11</td>\n",
       "      <td>32.33</td>\n",
       "      <td>-117.03</td>\n",
       "      <td>35.00</td>\n",
       "      <td>4.10</td>\n",
       "    </tr>\n",
       "    <tr>\n",
       "      <th>280</th>\n",
       "      <td>Sakakah</td>\n",
       "      <td>0</td>\n",
       "      <td>SA</td>\n",
       "      <td>1600371862</td>\n",
       "      <td>9</td>\n",
       "      <td>29.97</td>\n",
       "      <td>40.21</td>\n",
       "      <td>34.00</td>\n",
       "      <td>1.50</td>\n",
       "    </tr>\n",
       "    <tr>\n",
       "      <th>846</th>\n",
       "      <td>Sakakah</td>\n",
       "      <td>0</td>\n",
       "      <td>SA</td>\n",
       "      <td>1600371862</td>\n",
       "      <td>9</td>\n",
       "      <td>29.97</td>\n",
       "      <td>40.21</td>\n",
       "      <td>34.00</td>\n",
       "      <td>1.50</td>\n",
       "    </tr>\n",
       "  </tbody>\n",
       "</table>\n",
       "<p>1132 rows × 9 columns</p>\n",
       "</div>"
      ],
      "text/plain": [
       "                     City  Cloudiness Country        Date  Humidity    Lat  \\\n",
       "City ID                                                                      \n",
       "490                Eureka          16      US  1600371888       100  40.80   \n",
       "301                  Luba          40      GQ  1600371865       100   3.46   \n",
       "947                Ferrol          40      ES  1600371874       100  43.48   \n",
       "272            Gold Coast          90      AU  1600371861       100 -28.00   \n",
       "952                Dalaba         100      GN  1600371875       100  10.70   \n",
       "...                   ...         ...     ...         ...       ...    ...   \n",
       "591              Rosarito          75      MX  1600371829        11  32.33   \n",
       "840      Barão de Melgaço          93      BR  1600371861        11 -16.19   \n",
       "25               Rosarito          75      MX  1600371829        11  32.33   \n",
       "280               Sakakah           0      SA  1600371862         9  29.97   \n",
       "846               Sakakah           0      SA  1600371862         9  29.97   \n",
       "\n",
       "           Long  Max Temp  Wind Speed  \n",
       "City ID                                \n",
       "490     -124.16     21.11        4.23  \n",
       "301        8.55     25.00        3.10  \n",
       "947       -8.24     16.67        1.50  \n",
       "272      153.43     16.67        2.44  \n",
       "952      -12.25     18.05        1.69  \n",
       "...         ...       ...         ...  \n",
       "591     -117.03     35.00        4.10  \n",
       "840      -55.97     39.00        3.10  \n",
       "25      -117.03     35.00        4.10  \n",
       "280       40.21     34.00        1.50  \n",
       "846       40.21     34.00        1.50  \n",
       "\n",
       "[1132 rows x 9 columns]"
      ]
     },
     "execution_count": 22,
     "metadata": {},
     "output_type": "execute_result"
    }
   ],
   "source": [
    "sort_cities = city_df.sort_values(by=[\"Humidity\"], ascending=False)\n",
    "sort_cities"
   ]
  },
  {
   "cell_type": "code",
   "execution_count": 24,
   "metadata": {},
   "outputs": [
    {
     "name": "stdout",
     "output_type": "stream",
     "text": [
      "No cities with the humidity greater than 100%. Skipping this step.\n"
     ]
    }
   ],
   "source": [
    "print(\"No cities with the humidity greater than 100%. Skipping this step.\")"
   ]
  },
  {
   "cell_type": "code",
   "execution_count": 25,
   "metadata": {},
   "outputs": [],
   "source": [
    "#  Get the indices of cities that have humidity over 100%.\n"
   ]
  },
  {
   "cell_type": "code",
   "execution_count": 26,
   "metadata": {},
   "outputs": [],
   "source": [
    "# Make a new DataFrame equal to the city data to drop all humidity outliers by index.\n",
    "# Passing \"inplace=False\" will make a copy of the city_data DataFrame, which we call \"clean_city_data\".\n"
   ]
  },
  {
   "cell_type": "code",
   "execution_count": null,
   "metadata": {},
   "outputs": [],
   "source": [
    "\n"
   ]
  },
  {
   "cell_type": "markdown",
   "metadata": {},
   "source": [
    "## Plotting the Data\n",
    "* Use proper labeling of the plots using plot titles (including date of analysis) and axes labels.\n",
    "* Save the plotted figures as .pngs."
   ]
  },
  {
   "cell_type": "markdown",
   "metadata": {},
   "source": [
    "## Latitude vs. Temperature Plot"
   ]
  },
  {
   "cell_type": "code",
   "execution_count": 27,
   "metadata": {
    "scrolled": true
   },
   "outputs": [
    {
     "data": {
      "image/png": "[encoded data removed]",
      "text/plain": [
       "<Figure size 720x576 with 1 Axes>"
      ]
     },
     "metadata": {
      "needs_background": "light"
     },
     "output_type": "display_data"
    }
   ],
   "source": [
    "fig1, ax1 = plt.subplots(figsize=(10,8))\n",
    "\n",
    "temperature = city_df['Max Temp']\n",
    "latitude = city_df['Lat']\n",
    "\n",
    "plt.scatter(latitude, temperature, marker=\"o\", color=\"red\")\n",
    "\n",
    "plt.title(\"Latitude vs. Temperature\", fontsize = 15)\n",
    "plt.xlabel(\"Latitude\", fontsize = 12)\n",
    "plt.ylabel(\"Temperature\", fontsize = 12)\n",
    "plt.tight_layout()\n",
    "plt.savefig(\"Latitude_vs_Temperature.png\")\n",
    "plt.show()"
   ]
  },
  {
   "cell_type": "markdown",
   "metadata": {},
   "source": [
    "## Latitude vs. Humidity Plot"
   ]
  },
  {
   "cell_type": "code",
   "execution_count": 28,
   "metadata": {},
   "outputs": [
    {
     "data": {
      "image/png": "[encoded data removed]",
      "text/plain": [
       "<Figure size 720x576 with 1 Axes>"
      ]
     },
     "metadata": {
      "needs_background": "light"
     },
     "output_type": "display_data"
    }
   ],
   "source": [
    "fig1, ax1 = plt.subplots(figsize=(10,8))\n",
    "\n",
    "plt.scatter(city_df['Lat'], city_df['Humidity'], marker=\"o\", color=\"green\")\n",
    "\n",
    "plt.title(\"Latitude vs. Humidity\", fontsize = 15)\n",
    "plt.xlabel(\"Latitude\", fontsize = 12)\n",
    "plt.ylabel(\"Humidity\", fontsize = 12)\n",
    "plt.tight_layout()\n",
    "plt.savefig(\"Latitude_vs_Humidity.png\")\n",
    "plt.show()"
   ]
  },
  {
   "cell_type": "markdown",
   "metadata": {},
   "source": [
    "## Latitude vs. Cloudiness Plot"
   ]
  },
  {
   "cell_type": "code",
   "execution_count": 29,
   "metadata": {},
   "outputs": [
    {
     "data": {
      "image/png": "[encoded data removed]",
      "text/plain": [
       "<Figure size 720x576 with 1 Axes>"
      ]
     },
     "metadata": {
      "needs_background": "light"
     },
     "output_type": "display_data"
    }
   ],
   "source": [
    "fig1, ax1 = plt.subplots(figsize=(10,8))\n",
    "\n",
    "plt.scatter(city_df['Lat'], city_df['Cloudiness'], marker=\"o\", color=\"blue\")\n",
    "\n",
    "plt.title(\"Latitude vs. Cloudiness\", fontsize = 15)\n",
    "plt.xlabel(\"Latitude\", fontsize = 12)\n",
    "plt.ylabel(\"Cloudiness\", fontsize = 12)\n",
    "plt.tight_layout()\n",
    "plt.savefig(\"Latitude_vs_Cloudiness.png\")\n",
    "plt.show()"
   ]
  },
  {
   "cell_type": "markdown",
   "metadata": {},
   "source": [
    "## Latitude vs. Wind Speed Plot"
   ]
  },
  {
   "cell_type": "code",
   "execution_count": 30,
   "metadata": {},
   "outputs": [
    {
     "data": {
      "image/png": "[encoded data removed]",
      "text/plain": [
       "<Figure size 720x576 with 1 Axes>"
      ]
     },
     "metadata": {
      "needs_background": "light"
     },
     "output_type": "display_data"
    }
   ],
   "source": [
    "fig1, ax1 = plt.subplots(figsize=(10,8))\n",
    "\n",
    "plt.scatter(city_df['Lat'], city_df['Wind Speed'], marker=\"o\", color=\"red\")\n",
    "\n",
    "plt.title(\"Latitude vs. Wind Speed\", fontsize = 15)\n",
    "plt.xlabel(\"Latitude\", fontsize = 12)\n",
    "plt.ylabel(\"Wind Speed\", fontsize = 12)\n",
    "plt.tight_layout()\n",
    "plt.savefig(\"Latitude_vs_Wind Speed.png\")\n",
    "plt.show()"
   ]
  },
  {
   "cell_type": "markdown",
   "metadata": {},
   "source": [
    "## Linear Regression"
   ]
  },
  {
   "cell_type": "code",
   "execution_count": 31,
   "metadata": {},
   "outputs": [],
   "source": [
    "from scipy.stats import linregress\n",
    "from sklearn import datasets\n",
    "import scipy as stats\n",
    "import statistics"
   ]
  },
  {
   "cell_type": "markdown",
   "metadata": {},
   "source": [
    "####  Northern Hemisphere - Max Temp vs. Latitude Linear Regression"
   ]
  },
  {
   "cell_type": "code",
   "execution_count": 32,
   "metadata": {},
   "outputs": [
    {
     "name": "stdout",
     "output_type": "stream",
     "text": [
      "slope: -0.09683336217706431\n",
      "intercept: 20.987056562856118\n",
      "rvalue: -0.3639829346805263\n",
      "pvalue: 8.68261029945695e-37\n",
      "stderr: 0.007371292080261874\n",
      "line equation: y = -0.1x + 20.99\n"
     ]
    }
   ],
   "source": [
    "slope, intercept, rvalue, pvalue, stderr = linregress(latitude, temperature)\n",
    "regress_values = latitude * slope + intercept\n",
    "line_eq = \"y = \" + str(round(slope,2)) + \"x + \" + str(round(intercept,2))\n",
    "\n",
    "print(f'slope: {slope}')\n",
    "print(f'intercept: {intercept}')\n",
    "print(f'rvalue: {rvalue}')\n",
    "print(f'pvalue: {pvalue}')\n",
    "print(f'stderr: {stderr}')\n",
    "# print(f'regression values{regress_values}')\n",
    "print(f'line equation: {line_eq}')"
   ]
  },
  {
   "cell_type": "code",
   "execution_count": 33,
   "metadata": {},
   "outputs": [
    {
     "name": "stdout",
     "output_type": "stream",
     "text": [
      "The r-squared is: 0.13248357673864827\n"
     ]
    },
    {
     "data": {
      "image/png": "[encoded data removed]",
      "text/plain": [
       "<Figure size 648x576 with 1 Axes>"
      ]
     },
     "metadata": {
      "needs_background": "light"
     },
     "output_type": "display_data"
    }
   ],
   "source": [
    "fig1, ax1 = plt.subplots(figsize=(9,8))\n",
    "\n",
    "temperature = city_df['Max Temp']\n",
    "latitude = city_df['Lat']\n",
    "\n",
    "slope, intercept, rvalue, pvalue, stderr = linregress(latitude, temperature)\n",
    "regress_values = latitude * slope + intercept\n",
    "line_eq = \"y = \" + str(round(slope,2)) + \"x + \" + str(round(intercept,2))\n",
    "\n",
    "plt.scatter(latitude, temperature)\n",
    "plt.plot(latitude,regress_values,\"r-\")\n",
    "plt.annotate(line_eq,(15,25),fontsize=15,color=\"red\")\n",
    "\n",
    "plt.title(\"Northern Hemisphere: Temperature vs. Latitude Linear Regression\", fontsize = 15)\n",
    "plt.xlabel('Latitude', fontsize = 12)\n",
    "plt.ylabel(\"Temperature in Celsius\", fontsize = 12)\n",
    "plt.xlim(0,90)\n",
    "\n",
    "print(f\"The r-squared is: {rvalue**2}\")\n",
    "\n",
    "plt.tight_layout()\n",
    "plt.savefig(\"NorthernHemis_Temp_vs_Latitude_LinearRegression.png\")\n",
    "plt.show()"
   ]
  },
  {
   "cell_type": "markdown",
   "metadata": {},
   "source": [
    "####  Southern Hemisphere - Max Temp vs. Latitude Linear Regression"
   ]
  },
  {
   "cell_type": "code",
   "execution_count": 34,
   "metadata": {},
   "outputs": [
    {
     "name": "stdout",
     "output_type": "stream",
     "text": [
      "slope: -0.09683336217706431\n",
      "intercept: 20.987056562856118\n",
      "rvalue: -0.3639829346805263\n",
      "pvalue: 8.68261029945695e-37\n",
      "stderr: 0.007371292080261874\n",
      "line equation: y = -0.1x + 20.99\n"
     ]
    }
   ],
   "source": [
    "temperature = city_df['Max Temp']\n",
    "latitude = city_df['Lat']\n",
    "\n",
    "(slope, intercept, rvalue, pvalue, stderr) = linregress(latitude, temperature)\n",
    "regress_values = latitude * slope + intercept\n",
    "line_eq = \"y = \" + str(round(slope,2)) + \"x + \" + str(round(intercept,2))\n",
    "\n",
    "print(f'slope: {slope}')\n",
    "print(f'intercept: {intercept}')\n",
    "print(f'rvalue: {rvalue}')\n",
    "print(f'pvalue: {pvalue}')\n",
    "print(f'stderr: {stderr}')\n",
    "# print(f'regression values{regress_values}')\n",
    "print(f'line equation: {line_eq}')"
   ]
  },
  {
   "cell_type": "code",
   "execution_count": 35,
   "metadata": {},
   "outputs": [
    {
     "name": "stdout",
     "output_type": "stream",
     "text": [
      "The r-squared is: 0.13248357673864827\n"
     ]
    },
    {
     "data": {
      "image/png": "[encoded data removed]",
      "text/plain": [
       "<Figure size 720x576 with 1 Axes>"
      ]
     },
     "metadata": {
      "needs_background": "light"
     },
     "output_type": "display_data"
    }
   ],
   "source": [
    "fig1, ax1 = plt.subplots(figsize=(10,8))\n",
    "\n",
    "temperature = city_df['Max Temp']\n",
    "latitude = city_df['Lat']\n",
    "\n",
    "(slope, intercept, rvalue, pvalue, stderr) = linregress(latitude, temperature)\n",
    "regress_values = latitude * slope + intercept\n",
    "line_eq = \"y = \" + str(round(slope,2)) + \"x + \" + str(round(intercept,2))\n",
    "\n",
    "plt.scatter(latitude, temperature)\n",
    "plt.plot(latitude,regress_values,\"r-\")\n",
    "plt.annotate(line_eq,(20,25),fontsize=15,color=\"red\")\n",
    "\n",
    "plt.title(\"Southern Hemisphere: Temperature vs. Latitude Linear Regression\", fontsize = 15)\n",
    "plt.xlabel('Latitude', fontsize = 12)\n",
    "plt.ylabel('Temperature in Celsius', fontsize = 12)\n",
    "plt.xlim(0,-90)\n",
    "\n",
    "\n",
    "print(f\"The r-squared is: {rvalue**2}\")\n",
    "\n",
    "plt.tight_layout()\n",
    "plt.savefig(\"SouthernHemis_Temp_vs_Latitude_LinearRegression.png\")\n",
    "plt.show()"
   ]
  },
  {
   "cell_type": "markdown",
   "metadata": {},
   "source": [
    "####  Northern Hemisphere - Humidity (%) vs. Latitude Linear Regression"
   ]
  },
  {
   "cell_type": "code",
   "execution_count": 36,
   "metadata": {},
   "outputs": [
    {
     "name": "stdout",
     "output_type": "stream",
     "text": [
      "slope: 0.06304516957759253\n",
      "intercept: 67.27773828587175\n",
      "rvalue: 0.09879739677698164\n",
      "pvalue: 0.0008730474168997784\n",
      "stderr: 0.018890224691574187\n",
      "line equation: y = 0.06x + 67.28\n"
     ]
    }
   ],
   "source": [
    "humidity_per = city_df['Humidity']\n",
    "latitude = city_df['Lat']\n",
    "\n",
    "(slope, intercept, rvalue, pvalue, stderr) = linregress(latitude, humidity_per)\n",
    "regress_values = latitude * slope + intercept\n",
    "line_eq = \"y = \" + str(round(slope,2)) + \"x + \" + str(round(intercept,2))\n",
    "\n",
    "print(f'slope: {slope}')\n",
    "print(f'intercept: {intercept}')\n",
    "print(f'rvalue: {rvalue}')\n",
    "print(f'pvalue: {pvalue}')\n",
    "print(f'stderr: {stderr}')\n",
    "# print(f'regression values{regress_values}')\n",
    "print(f'line equation: {line_eq}')"
   ]
  },
  {
   "cell_type": "code",
   "execution_count": 37,
   "metadata": {},
   "outputs": [
    {
     "name": "stdout",
     "output_type": "stream",
     "text": [
      "The r-squared is: 0.009760925609908343\n"
     ]
    },
    {
     "data": {
      "image/png": "[encoded data removed]",
      "text/plain": [
       "<Figure size 720x576 with 1 Axes>"
      ]
     },
     "metadata": {
      "needs_background": "light"
     },
     "output_type": "display_data"
    }
   ],
   "source": [
    "fig1, ax1 = plt.subplots(figsize=(10,8))\n",
    "\n",
    "humidity_per = city_df['Humidity']\n",
    "latitude = city_df['Lat']\n",
    "\n",
    "(slope, intercept, rvalue, pvalue, stderr) = linregress(latitude, humidity_per)\n",
    "regress_values = latitude * slope + intercept\n",
    "line_eq = \"y = \" + str(round(slope,2)) + \"x + \" + str(round(intercept,2))\n",
    "\n",
    "plt.scatter(latitude, humidity_per)\n",
    "plt.plot(latitude,regress_values,\"r-\")\n",
    "plt.annotate(line_eq,(20,35),fontsize=15,color=\"red\")\n",
    "\n",
    "plt.title(\"Northern Hemisphere: Humidity in % vs. Latitude Linear Regression\", fontsize = 15)\n",
    "plt.xlabel('Latitude', fontsize = 12)\n",
    "plt.ylabel('Humidity in %', fontsize = 12)\n",
    "plt.xlim(0,90)\n",
    "\n",
    "\n",
    "print(f\"The r-squared is: {rvalue**2}\")\n",
    "\n",
    "plt.tight_layout()\n",
    "plt.savefig(\"NorthernHemis_Humidity_vs_Latitude_LinearRegression.png\")\n",
    "plt.show()"
   ]
  },
  {
   "cell_type": "markdown",
   "metadata": {},
   "source": [
    "####  Southern Hemisphere - Humidity (%) vs. Latitude Linear Regression"
   ]
  },
  {
   "cell_type": "code",
   "execution_count": 38,
   "metadata": {},
   "outputs": [
    {
     "name": "stdout",
     "output_type": "stream",
     "text": [
      "slope: 0.06304516957759253\n",
      "intercept: 67.27773828587175\n",
      "rvalue: 0.09879739677698164\n",
      "pvalue: 0.0008730474168997784\n",
      "stderr: 0.018890224691574187\n",
      "line equation: y = 0.06x + 67.28\n"
     ]
    }
   ],
   "source": [
    "humidity_per = city_df['Humidity']\n",
    "latitude = city_df['Lat']\n",
    "\n",
    "(slope, intercept, rvalue, pvalue, stderr) = linregress(latitude, humidity_per)\n",
    "regress_values = latitude * slope + intercept\n",
    "line_eq = \"y = \" + str(round(slope,2)) + \"x + \" + str(round(intercept,2))\n",
    "\n",
    "print(f'slope: {slope}')\n",
    "print(f'intercept: {intercept}')\n",
    "print(f'rvalue: {rvalue}')\n",
    "print(f'pvalue: {pvalue}')\n",
    "print(f'stderr: {stderr}')\n",
    "# print(f'regression values{regress_values}')\n",
    "print(f'line equation: {line_eq}')"
   ]
  },
  {
   "cell_type": "code",
   "execution_count": 39,
   "metadata": {},
   "outputs": [
    {
     "name": "stdout",
     "output_type": "stream",
     "text": [
      "The r-squared is: 0.009760925609908343\n"
     ]
    },
    {
     "data": {
      "image/png": "[encoded data removed]",
      "text/plain": [
       "<Figure size 720x576 with 1 Axes>"
      ]
     },
     "metadata": {
      "needs_background": "light"
     },
     "output_type": "display_data"
    }
   ],
   "source": [
    "fig1, ax1 = plt.subplots(figsize=(10,8))\n",
    "\n",
    "humidity_per = city_df['Humidity']\n",
    "latitude = city_df['Lat']\n",
    "\n",
    "(slope, intercept, rvalue, pvalue, stderr) = linregress(latitude, humidity_per)\n",
    "regress_values = latitude * slope + intercept\n",
    "line_eq = \"y = \" + str(round(slope,2)) + \"x + \" + str(round(intercept,2))\n",
    "\n",
    "plt.scatter(latitude, humidity_per)\n",
    "plt.plot(latitude,regress_values,\"r-\")\n",
    "plt.annotate(line_eq,(20,35),fontsize=15,color=\"red\")\n",
    "\n",
    "plt.title(\"Southern Hemisphere: Humidity in % vs. Latitude Linear Regression\", fontsize = 15)\n",
    "plt.xlabel('Latitude', fontsize = 12)\n",
    "plt.ylabel('Humidity in %', fontsize = 12)\n",
    "plt.xlim(0,-90)\n",
    "\n",
    "\n",
    "print(f\"The r-squared is: {rvalue**2}\")\n",
    "\n",
    "plt.tight_layout()\n",
    "plt.savefig(\"SouthernHemis_Hemisphere_vs_Latitude_LinearRegression.png\")\n",
    "plt.show()"
   ]
  },
  {
   "cell_type": "markdown",
   "metadata": {},
   "source": [
    "####  Northern Hemisphere - Cloudiness (%) vs. Latitude Linear Regression"
   ]
  },
  {
   "cell_type": "code",
   "execution_count": 40,
   "metadata": {},
   "outputs": [
    {
     "name": "stdout",
     "output_type": "stream",
     "text": [
      "slope: 0.048691076843689216\n",
      "intercept: 49.16766093829218\n",
      "rvalue: 0.04220087851339405\n",
      "pvalue: 0.1559221132139689\n",
      "stderr: 0.03429269369904601\n",
      "line equation: y = 0.05x + 49.17\n"
     ]
    }
   ],
   "source": [
    "cloudiness_per = city_df['Cloudiness']\n",
    "latitude = city_df['Lat']\n",
    "\n",
    "(slope, intercept, rvalue, pvalue, stderr) = linregress(latitude, cloudiness_per)\n",
    "regress_values = latitude * slope + intercept\n",
    "line_eq = \"y = \" + str(round(slope,2)) + \"x + \" + str(round(intercept,2))\n",
    "\n",
    "print(f'slope: {slope}')\n",
    "print(f'intercept: {intercept}')\n",
    "print(f'rvalue: {rvalue}')\n",
    "print(f'pvalue: {pvalue}')\n",
    "print(f'stderr: {stderr}')\n",
    "# print(f'regression values{regress_values}')\n",
    "print(f'line equation: {line_eq}')"
   ]
  },
  {
   "cell_type": "code",
   "execution_count": 41,
   "metadata": {},
   "outputs": [
    {
     "name": "stdout",
     "output_type": "stream",
     "text": [
      "The r-squared is: 0.0017809141473022433\n"
     ]
    },
    {
     "data": {
      "image/png": "[encoded data removed]",
      "text/plain": [
       "<Figure size 720x576 with 1 Axes>"
      ]
     },
     "metadata": {
      "needs_background": "light"
     },
     "output_type": "display_data"
    }
   ],
   "source": [
    "fig1, ax1 = plt.subplots(figsize=(10,8))\n",
    "\n",
    "cloudiness_per = city_df['Cloudiness']\n",
    "latitude = city_df['Lat']\n",
    "\n",
    "(slope, intercept, rvalue, pvalue, stderr) = linregress(latitude, cloudiness_per)\n",
    "regress_values = latitude * slope + intercept\n",
    "line_eq = \"y = \" + str(round(slope,2)) + \"x + \" + str(round(intercept,2))\n",
    "\n",
    "plt.scatter(latitude, cloudiness_per)\n",
    "plt.plot(latitude,regress_values,\"r-\")\n",
    "plt.annotate(line_eq,(20,35),fontsize=15,color=\"red\")\n",
    "\n",
    "plt.title(\"Northern Hemisphere: Cloudiness vs. Latitude Linear Regression\", fontsize = 15)\n",
    "plt.xlabel('Latitude', fontsize = 12)\n",
    "plt.ylabel('Cloudiness', fontsize = 12)\n",
    "plt.xlim(0,90)\n",
    "\n",
    "\n",
    "print(f\"The r-squared is: {rvalue**2}\")\n",
    "\n",
    "plt.tight_layout()\n",
    "plt.savefig(\"NorthernHemis_Cloudiness_vs_Latitude_LinearRegression.png\")\n",
    "plt.show()"
   ]
  },
  {
   "cell_type": "markdown",
   "metadata": {},
   "source": [
    "####  Southern Hemisphere - Cloudiness (%) vs. Latitude Linear Regression"
   ]
  },
  {
   "cell_type": "code",
   "execution_count": 42,
   "metadata": {},
   "outputs": [
    {
     "name": "stdout",
     "output_type": "stream",
     "text": [
      "slope: 0.048691076843689216\n",
      "intercept: 49.16766093829218\n",
      "rvalue: 0.04220087851339405\n",
      "pvalue: 0.1559221132139689\n",
      "stderr: 0.03429269369904601\n",
      "line equation: y = 0.05x + 49.17\n"
     ]
    }
   ],
   "source": [
    "cloudiness_per = city_df['Cloudiness']\n",
    "latitude = city_df['Lat']\n",
    "\n",
    "(slope, intercept, rvalue, pvalue, stderr) = linregress(latitude, cloudiness_per)\n",
    "regress_values = latitude * slope + intercept\n",
    "line_eq = \"y = \" + str(round(slope,2)) + \"x + \" + str(round(intercept,2))\n",
    "\n",
    "print(f'slope: {slope}')\n",
    "print(f'intercept: {intercept}')\n",
    "print(f'rvalue: {rvalue}')\n",
    "print(f'pvalue: {pvalue}')\n",
    "print(f'stderr: {stderr}')\n",
    "# print(f'regression values{regress_values}')\n",
    "print(f'line equation: {line_eq}')"
   ]
  },
  {
   "cell_type": "code",
   "execution_count": 43,
   "metadata": {},
   "outputs": [
    {
     "name": "stdout",
     "output_type": "stream",
     "text": [
      "The r-squared is: 0.0017809141473022433\n"
     ]
    },
    {
     "data": {
      "image/png": "[encoded data removed]",
      "text/plain": [
       "<Figure size 720x576 with 1 Axes>"
      ]
     },
     "metadata": {
      "needs_background": "light"
     },
     "output_type": "display_data"
    }
   ],
   "source": [
    "fig1, ax1 = plt.subplots(figsize=(10,8))\n",
    "\n",
    "cloudiness_per = city_df['Cloudiness']\n",
    "latitude = city_df['Lat']\n",
    "\n",
    "(slope, intercept, rvalue, pvalue, stderr) = linregress(latitude, cloudiness_per)\n",
    "regress_values = latitude * slope + intercept\n",
    "line_eq = \"y = \" + str(round(slope,2)) + \"x + \" + str(round(intercept,2))\n",
    "\n",
    "plt.scatter(latitude, cloudiness_per)\n",
    "plt.plot(latitude,regress_values,\"r-\")\n",
    "plt.annotate(line_eq,(20,35),fontsize=15,color=\"red\")\n",
    "\n",
    "plt.title(\"Southern Hemisphere: Cloudiness vs. Latitude Linear Regression\", fontsize = 15)\n",
    "plt.xlabel('Latitude', fontsize = 12)\n",
    "plt.ylabel('Cloudiness', fontsize = 12)\n",
    "plt.xlim(0,-90)\n",
    "\n",
    "\n",
    "print(f\"The r-squared is: {rvalue**2}\")\n",
    "\n",
    "plt.tight_layout()\n",
    "plt.savefig(\"SouthernHemis_Cloudiness_vs_Latitude_LinearRegression.png\")\n",
    "plt.show()"
   ]
  },
  {
   "cell_type": "markdown",
   "metadata": {},
   "source": [
    "####  Northern Hemisphere - Wind Speed (mph) vs. Latitude Linear Regression"
   ]
  },
  {
   "cell_type": "code",
   "execution_count": 44,
   "metadata": {},
   "outputs": [
    {
     "name": "stdout",
     "output_type": "stream",
     "text": [
      "slope: -0.0010886121120914677\n",
      "intercept: 3.9613907701178106\n",
      "rvalue: -0.01391281936750396\n",
      "pvalue: 0.6400669664462996\n",
      "stderr: 0.0023274306922790814\n",
      "line equation: y = -0.0x + 3.96\n"
     ]
    }
   ],
   "source": [
    "cloudiness_per = city_df['Wind Speed']\n",
    "latitude = city_df['Lat']\n",
    "\n",
    "(slope, intercept, rvalue, pvalue, stderr) = linregress(latitude, wind_speed)\n",
    "regress_values = latitude * slope + intercept\n",
    "line_eq = \"y = \" + str(round(slope,2)) + \"x + \" + str(round(intercept,2))\n",
    "\n",
    "print(f'slope: {slope}')\n",
    "print(f'intercept: {intercept}')\n",
    "print(f'rvalue: {rvalue}')\n",
    "print(f'pvalue: {pvalue}')\n",
    "print(f'stderr: {stderr}')\n",
    "# print(f'regression values{regress_values}')\n",
    "print(f'line equation: {line_eq}')"
   ]
  },
  {
   "cell_type": "code",
   "execution_count": 50,
   "metadata": {},
   "outputs": [
    {
     "name": "stdout",
     "output_type": "stream",
     "text": [
      "The r-squared is: 0.00019356654275279328\n"
     ]
    },
    {
     "data": {
      "image/png": "[encoded data removed]",
      "text/plain": [
       "<Figure size 720x3600 with 1 Axes>"
      ]
     },
     "metadata": {
      "needs_background": "light"
     },
     "output_type": "display_data"
    }
   ],
   "source": [
    "fig1, ax1 = plt.subplots(figsize=(10,50))\n",
    "\n",
    "wind_speed_mph = city_df['Wind Speed']\n",
    "latitude = city_df['Lat']\n",
    "\n",
    "(slope, intercept, rvalue, pvalue, stderr) = linregress(latitude, wind_speed_mph)\n",
    "regress_values = latitude * slope + intercept\n",
    "line_eq = \"y = \" + str(round(slope,2)) + \"x + \" + str(round(intercept,2))\n",
    "\n",
    "plt.scatter(latitude, wind_speed)\n",
    "plt.plot(latitude,regress_values,\"r-\")\n",
    "plt.annotate(line_eq,(20,35),fontsize=15,color=\"red\")\n",
    "\n",
    "plt.title(\"Northern Hemisphere: Wind Speed in mph vs. Latitude Linear Regression\", fontsize = 15)\n",
    "plt.xlabel('Latitude', fontsize = 12)\n",
    "plt.ylabel('Wind Speed in mph', fontsize = 12)\n",
    "plt.xlim(0,90)\n",
    "\n",
    "\n",
    "print(f\"The r-squared is: {rvalue**2}\")\n",
    "\n",
    "plt.tight_layout()\n",
    "plt.savefig(\"NorthernHemis_WindSpeed_mph_vs_Latitude_LinearRegression.png\")\n",
    "plt.show()"
   ]
  },
  {
   "cell_type": "markdown",
   "metadata": {},
   "source": [
    "####  Southern Hemisphere - Wind Speed (mph) vs. Latitude Linear Regression"
   ]
  },
  {
   "cell_type": "code",
   "execution_count": 51,
   "metadata": {},
   "outputs": [
    {
     "name": "stdout",
     "output_type": "stream",
     "text": [
      "slope: -0.0010886121120914677\n",
      "intercept: 3.9613907701178106\n",
      "rvalue: -0.01391281936750396\n",
      "pvalue: 0.6400669664462996\n",
      "stderr: 0.0023274306922790814\n",
      "line equation: y = -0.0x + 3.96\n"
     ]
    }
   ],
   "source": [
    "cloudiness_per = city_df['Wind Speed']\n",
    "latitude = city_df['Lat']\n",
    "\n",
    "(slope, intercept, rvalue, pvalue, stderr) = linregress(latitude, wind_speed)\n",
    "regress_values = latitude * slope + intercept\n",
    "line_eq = \"y = \" + str(round(slope,2)) + \"x + \" + str(round(intercept,2))\n",
    "\n",
    "print(f'slope: {slope}')\n",
    "print(f'intercept: {intercept}')\n",
    "print(f'rvalue: {rvalue}')\n",
    "print(f'pvalue: {pvalue}')\n",
    "print(f'stderr: {stderr}')\n",
    "# print(f'regression values{regress_values}')\n",
    "print(f'line equation: {line_eq}')"
   ]
  },
  {
   "cell_type": "code",
   "execution_count": 53,
   "metadata": {},
   "outputs": [
    {
     "name": "stdout",
     "output_type": "stream",
     "text": [
      "The r-squared is: 0.00019356654275279328\n"
     ]
    },
    {
     "data": {
      "image/png": "[encoded data removed]",
      "text/plain": [
       "<Figure size 720x3600 with 1 Axes>"
      ]
     },
     "metadata": {
      "needs_background": "light"
     },
     "output_type": "display_data"
    }
   ],
   "source": [
    "fig1, ax1 = plt.subplots(figsize=(10,50))\n",
    "\n",
    "wind_speed_mph = city_df['Wind Speed']\n",
    "latitude = city_df['Lat']\n",
    "\n",
    "(slope, intercept, rvalue, pvalue, stderr) = linregress(latitude, wind_speed_mph)\n",
    "regress_values = latitude * slope + intercept\n",
    "line_eq = \"y = \" + str(round(slope,2)) + \"x + \" + str(round(intercept,2))\n",
    "\n",
    "plt.scatter(latitude, wind_speed_mph)\n",
    "plt.plot(latitude,regress_values,\"r-\")\n",
    "plt.annotate(line_eq,(20,35),fontsize=15,color=\"red\")\n",
    "\n",
    "plt.title(\"Southern Hemisphere: Wind Speed in mph vs. Latitude Linear Regression\", fontsize = 15)\n",
    "plt.xlabel('Latitude', fontsize = 12)\n",
    "plt.ylabel('Wind Speed in mph', fontsize = 12)\n",
    "plt.xlim(0,-90)\n",
    "\n",
    "\n",
    "print(f\"The r-squared is: {rvalue**2}\")\n",
    "\n",
    "plt.tight_layout()\n",
    "plt.savefig(\"SouthernHemis_WindSpeed_mph_vs_Latitude_LinearRegression.png\")\n",
    "plt.show()"
   ]
  },
  {
   "cell_type": "code",
   "execution_count": null,
   "metadata": {},
   "outputs": [],
   "source": []
  }
 ],
 "metadata": {
  "anaconda-cloud": {},
  "kernel_info": {
   "name": "python3"
  },
  "kernelspec": {
   "display_name": "Python 3",
   "language": "python",
   "name": "python3"
  },
  "language_info": {
   "codemirror_mode": {
    "name": "ipython",
    "version": 3
   },
   "file_extension": ".py",
   "mimetype": "text/x-python",
   "name": "python",
   "nbconvert_exporter": "python",
   "pygments_lexer": "ipython3",
   "version": "3.7.6"
  },
  "latex_envs": {
   "LaTeX_envs_menu_present": true,
   "autoclose": false,
   "autocomplete": true,
   "bibliofile": "biblio.bib",
   "cite_by": "apalike",
   "current_citInitial": 1,
   "eqLabelWithNumbers": true,
   "eqNumInitial": 1,
   "hotkeys": {
    "equation": "Ctrl-E",
    "itemize": "Ctrl-I"
   },
   "labels_anchors": false,
   "latex_user_defs": false,
   "report_style_numbering": false,
   "user_envs_cfg": false
  },
  "nteract": {
   "version": "0.12.3"
  }
 },
 "nbformat": 4,
 "nbformat_minor": 2
}
